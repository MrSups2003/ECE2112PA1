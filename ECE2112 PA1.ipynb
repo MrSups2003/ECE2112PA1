{
 "cells": [
  {
   "cell_type": "markdown",
   "id": "ddb04b5d-c0cc-4703-8899-25c90cc2ddeb",
   "metadata": {},
   "source": [
    "## ECE2112 PROGRAMMING ASSIGNMENT 1"
   ]
  },
  {
   "cell_type": "code",
   "execution_count": 1,
   "id": "1018ade3-19d3-4561-9aee-9c70f8c3f426",
   "metadata": {},
   "outputs": [
    {
     "name": "stdin",
     "output_type": "stream",
     "text": [
      "Enter a word or a name: joshua\n"
     ]
    },
    {
     "name": "stdout",
     "output_type": "stream",
     "text": [
      "ahjosu\n"
     ]
    }
   ],
   "source": [
    "def stringsort():\n",
    "   names = input(\"Enter a word or a name:\") #Input what name or word the user wants to input\n",
    "   sortedname = \"\".join(sorted(names)) #Using .join operation and sorted in order for a string to be sorted into ascending order and \n",
    "   print(sortedname) #Printing the variable sortedname\n",
    "\n",
    "stringsort()"
   ]
  },
  {
   "cell_type": "code",
   "execution_count": 2,
   "id": "8c10e976-4063-49db-b517-08843fdd4f71",
   "metadata": {},
   "outputs": [
    {
     "name": "stdin",
     "output_type": "stream",
     "text": [
      "{'Smile': ':)', 'Grin': ':D', 'Sad': ':((', 'Angry': '>:('} Grin\n"
     ]
    },
    {
     "name": "stdout",
     "output_type": "stream",
     "text": [
      "Make me:D\n"
     ]
    }
   ],
   "source": [
    "def emoticons(): #Create a function first\n",
    "    emotes = {\"Smile\":\":)\", \"Grin\": \":D\", \"Sad\": \":((\", \"Angry\": \">:(\"} #Create a Dictionary for emotes for Smile, Grin, Sad, and Angry\n",
    "    feeling = input(str(emotes)) #Create a variable called feeling for an input for emotes that is now a string \n",
    "    print(\"Make me\" + emotes.get(feeling))#Print out the sentence Make me with the emote that is respectively defined in the dictionary\n",
    "    \n",
    "emoticons()"
   ]
  },
  {
   "cell_type": "code",
   "execution_count": 3,
   "id": "6f622bbe-a8b5-41f4-aa47-4e8985466701",
   "metadata": {},
   "outputs": [
    {
     "name": "stdout",
     "output_type": "stream",
     "text": [
      "first:  1\n",
      "middle:  [2, 3, 4, 5, 6, 7, 8, 9]\n",
      "last:  10\n"
     ]
    }
   ],
   "source": [
    "numb = [1,2,3,4,5,6,7,8,9,10] #Consider a list with this element\n",
    "first = numb[0] #We consider the variable first with the first element which is at 0\n",
    "middle = numb[1:-1] #We then slice from 1 (The comma) and -1 (The number 10)\n",
    "last = numb[-1] #The last element is 10\n",
    "\n",
    "#We print out the first, middle, and last variables\n",
    "print(\"first: \", first) \n",
    "print(\"middle: \", middle)\n",
    "print(\"last: \", last)"
   ]
  }
 ],
 "metadata": {
  "kernelspec": {
   "display_name": "Python 3 (ipykernel)",
   "language": "python",
   "name": "python3"
  },
  "language_info": {
   "codemirror_mode": {
    "name": "ipython",
    "version": 3
   },
   "file_extension": ".py",
   "mimetype": "text/x-python",
   "name": "python",
   "nbconvert_exporter": "python",
   "pygments_lexer": "ipython3",
   "version": "3.12.4"
  }
 },
 "nbformat": 4,
 "nbformat_minor": 5
}
